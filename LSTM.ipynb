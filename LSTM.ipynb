{
 "cells": [
  {
   "cell_type": "code",
   "execution_count": 49,
   "id": "74211ba3-3d3b-43e1-8232-d783909b7c07",
   "metadata": {},
   "outputs": [],
   "source": [
    "import pandas as pd\n",
    "import torch\n",
    "import seaborn as sns\n",
    "import matplotlib.pyplot as plt\n",
    "from torch.utils.data import Dataset\n",
    "from torch.utils.data import DataLoader\n",
    "torch.manual_seed(99)\n",
    "import numpy as np\n",
    "import copy"
   ]
  },
  {
   "cell_type": "code",
   "execution_count": 50,
   "id": "ca103df5-82f0-4fcd-8207-aeb8fe73543a",
   "metadata": {},
   "outputs": [],
   "source": [
    "class CFG:\n",
    "    seq_length = 10\n",
    "    pred_length = 5\n",
    "    epoch = 10"
   ]
  },
  {
   "cell_type": "code",
   "execution_count": 51,
   "id": "1ac37f0a-df89-40a9-b3f1-9389cc6a393a",
   "metadata": {},
   "outputs": [],
   "source": [
    "bit = pd.read_csv(\"BCHAIN-MKPRU.csv\")"
   ]
  },
  {
   "cell_type": "code",
   "execution_count": 52,
   "id": "fb5da883-a7fa-4066-b4e0-75edbb752924",
   "metadata": {},
   "outputs": [
    {
     "data": {
      "text/html": [
       "<div>\n",
       "<style scoped>\n",
       "    .dataframe tbody tr th:only-of-type {\n",
       "        vertical-align: middle;\n",
       "    }\n",
       "\n",
       "    .dataframe tbody tr th {\n",
       "        vertical-align: top;\n",
       "    }\n",
       "\n",
       "    .dataframe thead th {\n",
       "        text-align: right;\n",
       "    }\n",
       "</style>\n",
       "<table border=\"1\" class=\"dataframe\">\n",
       "  <thead>\n",
       "    <tr style=\"text-align: right;\">\n",
       "      <th></th>\n",
       "      <th>Date</th>\n",
       "      <th>Value</th>\n",
       "    </tr>\n",
       "  </thead>\n",
       "  <tbody>\n",
       "    <tr>\n",
       "      <th>0</th>\n",
       "      <td>9/11/16</td>\n",
       "      <td>621.65</td>\n",
       "    </tr>\n",
       "    <tr>\n",
       "      <th>1</th>\n",
       "      <td>9/12/16</td>\n",
       "      <td>609.67</td>\n",
       "    </tr>\n",
       "    <tr>\n",
       "      <th>2</th>\n",
       "      <td>9/13/16</td>\n",
       "      <td>610.92</td>\n",
       "    </tr>\n",
       "    <tr>\n",
       "      <th>3</th>\n",
       "      <td>9/14/16</td>\n",
       "      <td>608.82</td>\n",
       "    </tr>\n",
       "    <tr>\n",
       "      <th>4</th>\n",
       "      <td>9/15/16</td>\n",
       "      <td>610.38</td>\n",
       "    </tr>\n",
       "  </tbody>\n",
       "</table>\n",
       "</div>"
      ],
      "text/plain": [
       "      Date   Value\n",
       "0  9/11/16  621.65\n",
       "1  9/12/16  609.67\n",
       "2  9/13/16  610.92\n",
       "3  9/14/16  608.82\n",
       "4  9/15/16  610.38"
      ]
     },
     "execution_count": 52,
     "metadata": {},
     "output_type": "execute_result"
    }
   ],
   "source": [
    "bit.head()"
   ]
  },
  {
   "cell_type": "code",
   "execution_count": 53,
   "id": "66a8a428-9e72-4a5d-9089-1bf3672c3860",
   "metadata": {},
   "outputs": [],
   "source": [
    "class bitCoinDataset(Dataset):\n",
    "    def __init__(self, dataset):\n",
    "        self.target = (dataset.Value.astype(np.float32))\n",
    "        \n",
    "    def __len__(self):\n",
    "        return len(self.target)-CFG.seq_length\n",
    "\n",
    "    def __getitem__(self, i): \n",
    "        return (np.array(self.target[i:i+CFG.seq_length-CFG.pred_length]),np.array(self.target[i+CFG.seq_length-CFG.pred_length:i+CFG.seq_length]))"
   ]
  },
  {
   "cell_type": "code",
   "execution_count": 54,
   "id": "56fc8ee3-2235-4d8c-a8f6-d3ad330a1dc2",
   "metadata": {},
   "outputs": [],
   "source": [
    "bd = bitCoinDataset(bit)"
   ]
  },
  {
   "cell_type": "code",
   "execution_count": 55,
   "id": "a37531f8-7a64-4c3a-943e-272b81ed61ad",
   "metadata": {},
   "outputs": [
    {
     "data": {
      "text/plain": [
       "(array([621.65, 609.67, 610.92, 608.82, 610.38], dtype=float32),\n",
       " array([609.11, 607.04, 611.58, 610.19, 608.66], dtype=float32))"
      ]
     },
     "execution_count": 55,
     "metadata": {},
     "output_type": "execute_result"
    }
   ],
   "source": [
    "bd[0]"
   ]
  },
  {
   "cell_type": "code",
   "execution_count": 56,
   "id": "483982ca-ac13-49e1-a05b-c87469b79032",
   "metadata": {},
   "outputs": [],
   "source": [
    "train_loader = DataLoader(bd, batch_size=1, shuffle=False)"
   ]
  },
  {
   "cell_type": "code",
   "execution_count": 57,
   "id": "3c654717-77f6-4429-a0a2-1176316f1c87",
   "metadata": {},
   "outputs": [],
   "source": [
    "from torch import nn\n",
    "\n",
    "class ShallowRegressionLSTM(nn.Module):\n",
    "    def __init__(self, num_sensors, hidden_units):\n",
    "        super().__init__()\n",
    "        self.num_sensors = num_sensors  # this is the number of features\n",
    "        self.hidden_units = hidden_units\n",
    "        self.num_layers = 1\n",
    "\n",
    "        self.lstm = nn.LSTM(\n",
    "            input_size=num_sensors,\n",
    "            hidden_size=hidden_units,\n",
    "            batch_first=True,\n",
    "            num_layers=self.num_layers\n",
    "        )\n",
    "\n",
    "        self.linear = nn.Linear(in_features=self.hidden_units, out_features=1)\n",
    "\n",
    "    def forward(self, x):\n",
    "        batch_size = x.shape[0]\n",
    "        h0 = torch.zeros(self.num_layers, batch_size, self.hidden_units).requires_grad_()\n",
    "        c0 = torch.zeros(self.num_layers, batch_size, self.hidden_units).requires_grad_()\n",
    "\n",
    "        _, (hn, _) = self.lstm(x, (h0, c0))\n",
    "        out = self.linear(hn[0]).flatten()  # First dim of Hn is num_layers, which is set to 1 above.\n",
    "\n",
    "        return out"
   ]
  },
  {
   "cell_type": "code",
   "execution_count": 58,
   "id": "396ff43a-bd99-4484-8db6-36bd12c4371b",
   "metadata": {},
   "outputs": [],
   "source": [
    "def my_loss(output,gt, output_diff, gt_diff):\n",
    "    same = True\n",
    "    with torch.no_grad():\n",
    "        if output_diff*gt_diff<0:\n",
    "            same = False\n",
    "    if same:\n",
    "        loss = torch.mean((output - gt)**2)\n",
    "    else:\n",
    "        loss = torch.mean((output - gt)**4)\n",
    "    return loss"
   ]
  },
  {
   "cell_type": "code",
   "execution_count": 59,
   "id": "16343c2c-2f5e-4394-aa8c-78c5f6a7f3b9",
   "metadata": {},
   "outputs": [],
   "source": [
    "learning_rate = 2e-3\n",
    "num_hidden_units = 8\n",
    "\n",
    "model = ShallowRegressionLSTM(num_sensors=1, hidden_units=num_hidden_units)\n",
    "loss_function = nn.MSELoss()\n",
    "optimizer = torch.optim.Adam(model.parameters(), lr=learning_rate)"
   ]
  },
  {
   "cell_type": "code",
   "execution_count": 60,
   "id": "12dd74ec-a181-4236-8b6f-ef5453468b9f",
   "metadata": {},
   "outputs": [],
   "source": [
    "def update_input(input_array,output):\n",
    "    tmp = list(input_array.detach().numpy())[0]\n",
    "    for i in range(len(tmp)-1):\n",
    "        tmp[i] = tmp[i+1]\n",
    "    tmp[-1] = output\n",
    "    return tmp"
   ]
  },
  {
   "cell_type": "code",
   "execution_count": 61,
   "id": "0698d5d8-501b-41ac-8f83-55bbaae9cfc8",
   "metadata": {},
   "outputs": [],
   "source": [
    "def train_model(data_loader, model, loss_function, optimizer):\n",
    "    num_batches = len(data_loader)\n",
    "    total_eval_loss = []\n",
    "    total_train_loss = []\n",
    "    prediction = []\n",
    "    maximum = 0\n",
    "    trade = dict()\n",
    "    for i in range(len(bd)+CFG.seq_length+CFG.pred_length):\n",
    "        trade[i] = []\n",
    "    for idx, (X, y) in enumerate(data_loader):\n",
    "        with torch.no_grad():\n",
    "            maximum = max(X.reshape(CFG.seq_length-CFG.pred_length,)).item()\n",
    "        with torch.no_grad():\n",
    "            model.eval()\n",
    "            # print(\"input:\",X.reshape(1,CFG.seq_length-CFG.pred_length,-1))\n",
    "            output = copy.deepcopy(X.reshape(1,CFG.seq_length-CFG.pred_length,-1))\n",
    "            for l in range(CFG.pred_length):\n",
    "                # print(\"input:\",output.to(torch.float32)/maximum)\n",
    "                pred = model(output.to(torch.float32)/maximum)\n",
    "                trade[idx+l+CFG.seq_length-CFG.pred_length].append(pred.detach().item()*maximum)\n",
    "                update_input(output, pred.detach().item()*maximum)\n",
    "                # print(\"prediction\",pred*maximum)\n",
    "                # print(\"y\",y[0][l])\n",
    "                loss = loss_function(torch.tensor((pred*maximum).item()), y[0][l].to(torch.float32))\n",
    "                total_eval_loss.append(loss)\n",
    "       \n",
    "        train_loss = 0\n",
    "        for i in range(CFG.epoch):\n",
    "            X = X.reshape(1,CFG.seq_length-CFG.pred_length,-1)\n",
    "            y = y.reshape(1,CFG.pred_length,-1)\n",
    "            model.train()\n",
    "            # print(\"X\",X)\n",
    "            # print(\"y\",y)\n",
    "            #拿前seq_length数据进行训练\n",
    "            output_prev = X[0][-1].to(torch.float32)/maximum\n",
    "            gt_prev = X[0][-1].to(torch.float32)/maximum\n",
    "            for i in range(CFG.pred_length):\n",
    "                \n",
    "                output = model(X.to(torch.float32)/maximum)\n",
    "                # print(\"out\",output*maximum)\n",
    "                loss = loss_function(output*maximum, (y[0][i].to(torch.float32)))\n",
    "                with torch.no_grad():\n",
    "                    train_loss += loss\n",
    "                optimizer.zero_grad()\n",
    "                loss.backward()\n",
    "                optimizer.step()\n",
    "                update_input(X, y[0][i].to(torch.float32).detach())\n",
    "                # print(\"tf\",X)\n",
    "        total_train_loss.append(train_loss/CFG.epoch)\n",
    "\n",
    "    return total_train_loss,total_eval_loss, trade\n"
   ]
  },
  {
   "cell_type": "code",
   "execution_count": 62,
   "id": "fd1c42e6-7f81-4154-bb90-e4ca2983c647",
   "metadata": {},
   "outputs": [],
   "source": [
    "total_train_loss,total_eval_loss, trade = train_model(train_loader, model, loss_function, optimizer)"
   ]
  },
  {
   "cell_type": "code",
   "execution_count": 63,
   "id": "55abcbb7-fd99-4a1b-9f43-bf624e54c10b",
   "metadata": {},
   "outputs": [],
   "source": [
    "total_train_loss_list = [i.detach().item() for i in total_train_loss]"
   ]
  },
  {
   "cell_type": "code",
   "execution_count": 64,
   "id": "547f6dfb-312b-4663-b578-517508ffc60d",
   "metadata": {},
   "outputs": [],
   "source": [
    "total_eval_loss_list = [i.detach().item() for i in total_eval_loss]"
   ]
  },
  {
   "cell_type": "code",
   "execution_count": 65,
   "id": "8c8b9990-1acb-42e8-b530-94d166af273a",
   "metadata": {},
   "outputs": [
    {
     "data": {
      "text/plain": [
       "1826"
      ]
     },
     "execution_count": 65,
     "metadata": {},
     "output_type": "execute_result"
    }
   ],
   "source": [
    "len(outputs)"
   ]
  },
  {
   "cell_type": "code",
   "execution_count": 66,
   "id": "aec89cbd-bfb8-4ac3-b803-d31962246f61",
   "metadata": {},
   "outputs": [],
   "source": [
    "outputs = [0]*(CFG.seq_length-CFG.pred_length)+[trade[i][0] for i in range(CFG.seq_length-CFG.pred_length,len(bd)+CFG.seq_length-1)]+[trade[len(bd)+CFG.seq_length-2][0]]"
   ]
  },
  {
   "cell_type": "code",
   "execution_count": 68,
   "id": "8fd4d0b8-3522-4de9-9d0b-3322cbc28e74",
   "metadata": {},
   "outputs": [],
   "source": [
    "outputs_csv = pd.DataFrame({\"outputs\":list(outputs),\"gt\":np.array(bit.Value),\"train_loss\":[0]*10+total_train_loss_list}).to_csv(\"bit_lstm.csv\")"
   ]
  },
  {
   "cell_type": "code",
   "execution_count": 42,
   "id": "ce8aecc1-b42e-4427-af62-fb57a99706af",
   "metadata": {},
   "outputs": [
    {
     "data": {
      "text/plain": [
       "8724.947265625"
      ]
     },
     "execution_count": 42,
     "metadata": {},
     "output_type": "execute_result"
    }
   ],
   "source": [
    "max(outputs_csv.train_loss.replace(9689158.0,1000).replace(912530.6875,1000))"
   ]
  },
  {
   "cell_type": "code",
   "execution_count": 45,
   "id": "43089d7b-4a9d-4392-aa12-46a3d1dda6c3",
   "metadata": {},
   "outputs": [
    {
     "data": {
      "text/plain": [
       "<AxesSubplot:ylabel='train_loss'>"
      ]
     },
     "execution_count": 45,
     "metadata": {},
     "output_type": "execute_result"
    },
    {
     "data": {
      "image/png": "[encoded data removed]",
      "text/plain": [
       "<Figure size 432x288 with 1 Axes>"
      ]
     },
     "metadata": {
      "needs_background": "light"
     },
     "output_type": "display_data"
    }
   ],
   "source": [
    "sns.lineplot(x = outputs_csv.index, y = outputs_csv.train_loss.replace(9689158.0,1000).replace(912530.6875,1000))"
   ]
  },
  {
   "cell_type": "code",
   "execution_count": 20,
   "id": "73527b7b-8f26-4770-8661-cdc3a662b0ef",
   "metadata": {},
   "outputs": [
    {
     "ename": "AttributeError",
     "evalue": "'DataFrame' object has no attribute 'Value'",
     "output_type": "error",
     "traceback": [
      "\u001b[1;31m---------------------------------------------------------------------------\u001b[0m",
      "\u001b[1;31mAttributeError\u001b[0m                            Traceback (most recent call last)",
      "\u001b[1;32m<ipython-input-20-da6e3f0a7937>\u001b[0m in \u001b[0;36m<module>\u001b[1;34m\u001b[0m\n\u001b[1;32m----> 1\u001b[1;33m \u001b[0msns\u001b[0m\u001b[1;33m.\u001b[0m\u001b[0mlineplot\u001b[0m\u001b[1;33m(\u001b[0m\u001b[0mx\u001b[0m\u001b[1;33m=\u001b[0m\u001b[0mrange\u001b[0m\u001b[1;33m(\u001b[0m\u001b[0mlen\u001b[0m\u001b[1;33m(\u001b[0m\u001b[0mbit\u001b[0m\u001b[1;33m.\u001b[0m\u001b[0mValue\u001b[0m\u001b[1;33m)\u001b[0m\u001b[1;33m)\u001b[0m\u001b[1;33m,\u001b[0m \u001b[0my\u001b[0m \u001b[1;33m=\u001b[0m \u001b[0mbit\u001b[0m\u001b[1;33m.\u001b[0m\u001b[0mValue\u001b[0m\u001b[1;33m)\u001b[0m\u001b[1;33m\u001b[0m\u001b[1;33m\u001b[0m\u001b[0m\n\u001b[0m\u001b[0;32m      2\u001b[0m \u001b[0msns\u001b[0m\u001b[1;33m.\u001b[0m\u001b[0mlineplot\u001b[0m\u001b[1;33m(\u001b[0m\u001b[0mx\u001b[0m\u001b[1;33m=\u001b[0m\u001b[0moutputs_csv\u001b[0m\u001b[1;33m.\u001b[0m\u001b[0mindex\u001b[0m\u001b[1;33m,\u001b[0m\u001b[0my\u001b[0m\u001b[1;33m=\u001b[0m\u001b[1;33m[\u001b[0m\u001b[0mi\u001b[0m \u001b[1;32mfor\u001b[0m \u001b[0mi\u001b[0m \u001b[1;32min\u001b[0m \u001b[0moutputs_csv\u001b[0m\u001b[1;33m.\u001b[0m\u001b[0moutputs\u001b[0m\u001b[1;33m]\u001b[0m\u001b[1;33m)\u001b[0m\u001b[1;33m\u001b[0m\u001b[1;33m\u001b[0m\u001b[0m\n",
      "\u001b[1;32m~\\anaconda3\\lib\\site-packages\\pandas\\core\\generic.py\u001b[0m in \u001b[0;36m__getattr__\u001b[1;34m(self, name)\u001b[0m\n\u001b[0;32m   5485\u001b[0m         ):\n\u001b[0;32m   5486\u001b[0m             \u001b[1;32mreturn\u001b[0m \u001b[0mself\u001b[0m\u001b[1;33m[\u001b[0m\u001b[0mname\u001b[0m\u001b[1;33m]\u001b[0m\u001b[1;33m\u001b[0m\u001b[1;33m\u001b[0m\u001b[0m\n\u001b[1;32m-> 5487\u001b[1;33m         \u001b[1;32mreturn\u001b[0m \u001b[0mobject\u001b[0m\u001b[1;33m.\u001b[0m\u001b[0m__getattribute__\u001b[0m\u001b[1;33m(\u001b[0m\u001b[0mself\u001b[0m\u001b[1;33m,\u001b[0m \u001b[0mname\u001b[0m\u001b[1;33m)\u001b[0m\u001b[1;33m\u001b[0m\u001b[1;33m\u001b[0m\u001b[0m\n\u001b[0m\u001b[0;32m   5488\u001b[0m \u001b[1;33m\u001b[0m\u001b[0m\n\u001b[0;32m   5489\u001b[0m     \u001b[1;32mdef\u001b[0m \u001b[0m__setattr__\u001b[0m\u001b[1;33m(\u001b[0m\u001b[0mself\u001b[0m\u001b[1;33m,\u001b[0m \u001b[0mname\u001b[0m\u001b[1;33m:\u001b[0m \u001b[0mstr\u001b[0m\u001b[1;33m,\u001b[0m \u001b[0mvalue\u001b[0m\u001b[1;33m)\u001b[0m \u001b[1;33m->\u001b[0m \u001b[1;32mNone\u001b[0m\u001b[1;33m:\u001b[0m\u001b[1;33m\u001b[0m\u001b[1;33m\u001b[0m\u001b[0m\n",
      "\u001b[1;31mAttributeError\u001b[0m: 'DataFrame' object has no attribute 'Value'"
     ]
    }
   ],
   "source": [
    "sns.lineplot(x=range(len(bit.Value)), y = bit.Value)\n",
    "sns.lineplot(x=outputs_csv.index,y=[i for i in outputs_csv.outputs])"
   ]
  },
  {
   "cell_type": "code",
   "execution_count": 21,
   "id": "9e633d42-32ac-4174-aa01-4b2880f06fc5",
   "metadata": {},
   "outputs": [],
   "source": [
    "outputs_csv.to_csv(\"outputs.csv\")"
   ]
  },
  {
   "cell_type": "code",
   "execution_count": 22,
   "id": "afdde8d0-fe5c-4f32-a592-3d3814abe33c",
   "metadata": {},
   "outputs": [],
   "source": [
    "def calculate_difference(outputs, empty_days):\n",
    "    out_difference = []\n",
    "    for i in range(empty_days,len(outputs)-1):\n",
    "        out_difference.append(outputs[i+1]-outputs[i])\n",
    "    return out_difference"
   ]
  },
  {
   "cell_type": "code",
   "execution_count": 23,
   "id": "6808b309-9304-4ccc-929e-73daf65b62c0",
   "metadata": {},
   "outputs": [
    {
     "ename": "TypeError",
     "evalue": "unsupported operand type(s) for -: 'list' and 'list'",
     "output_type": "error",
     "traceback": [
      "\u001b[1;31m---------------------------------------------------------------------------\u001b[0m",
      "\u001b[1;31mTypeError\u001b[0m                                 Traceback (most recent call last)",
      "\u001b[1;32m<ipython-input-23-445cc7375484>\u001b[0m in \u001b[0;36m<module>\u001b[1;34m\u001b[0m\n\u001b[1;32m----> 1\u001b[1;33m \u001b[0moutputs_difference\u001b[0m \u001b[1;33m=\u001b[0m \u001b[0mcalculate_difference\u001b[0m\u001b[1;33m(\u001b[0m\u001b[0moutputs_csv\u001b[0m\u001b[1;33m.\u001b[0m\u001b[0moutputs\u001b[0m\u001b[1;33m,\u001b[0m\u001b[1;36m20\u001b[0m\u001b[1;33m)\u001b[0m\u001b[1;33m\u001b[0m\u001b[1;33m\u001b[0m\u001b[0m\n\u001b[0m\u001b[0;32m      2\u001b[0m \u001b[0mgt_difference\u001b[0m \u001b[1;33m=\u001b[0m \u001b[0mcalculate_difference\u001b[0m\u001b[1;33m(\u001b[0m\u001b[0moutputs_csv\u001b[0m\u001b[1;33m[\u001b[0m\u001b[1;34m\"gt\"\u001b[0m\u001b[1;33m]\u001b[0m\u001b[1;33m,\u001b[0m\u001b[1;36m20\u001b[0m\u001b[1;33m)\u001b[0m\u001b[1;33m\u001b[0m\u001b[1;33m\u001b[0m\u001b[0m\n",
      "\u001b[1;32m<ipython-input-22-e125ac999b5c>\u001b[0m in \u001b[0;36mcalculate_difference\u001b[1;34m(outputs, empty_days)\u001b[0m\n\u001b[0;32m      2\u001b[0m     \u001b[0mout_difference\u001b[0m \u001b[1;33m=\u001b[0m \u001b[1;33m[\u001b[0m\u001b[1;33m]\u001b[0m\u001b[1;33m\u001b[0m\u001b[1;33m\u001b[0m\u001b[0m\n\u001b[0;32m      3\u001b[0m     \u001b[1;32mfor\u001b[0m \u001b[0mi\u001b[0m \u001b[1;32min\u001b[0m \u001b[0mrange\u001b[0m\u001b[1;33m(\u001b[0m\u001b[0mempty_days\u001b[0m\u001b[1;33m,\u001b[0m\u001b[0mlen\u001b[0m\u001b[1;33m(\u001b[0m\u001b[0moutputs\u001b[0m\u001b[1;33m)\u001b[0m\u001b[1;33m-\u001b[0m\u001b[1;36m1\u001b[0m\u001b[1;33m)\u001b[0m\u001b[1;33m:\u001b[0m\u001b[1;33m\u001b[0m\u001b[1;33m\u001b[0m\u001b[0m\n\u001b[1;32m----> 4\u001b[1;33m         \u001b[0mout_difference\u001b[0m\u001b[1;33m.\u001b[0m\u001b[0mappend\u001b[0m\u001b[1;33m(\u001b[0m\u001b[0moutputs\u001b[0m\u001b[1;33m[\u001b[0m\u001b[0mi\u001b[0m\u001b[1;33m+\u001b[0m\u001b[1;36m1\u001b[0m\u001b[1;33m]\u001b[0m\u001b[1;33m-\u001b[0m\u001b[0moutputs\u001b[0m\u001b[1;33m[\u001b[0m\u001b[0mi\u001b[0m\u001b[1;33m]\u001b[0m\u001b[1;33m)\u001b[0m\u001b[1;33m\u001b[0m\u001b[1;33m\u001b[0m\u001b[0m\n\u001b[0m\u001b[0;32m      5\u001b[0m     \u001b[1;32mreturn\u001b[0m \u001b[0mout_difference\u001b[0m\u001b[1;33m\u001b[0m\u001b[1;33m\u001b[0m\u001b[0m\n",
      "\u001b[1;31mTypeError\u001b[0m: unsupported operand type(s) for -: 'list' and 'list'"
     ]
    }
   ],
   "source": [
    "outputs_difference = calculate_difference(outputs_csv.outputs,20)\n",
    "gt_difference = calculate_difference(outputs_csv[\"gt\"],20)"
   ]
  },
  {
   "cell_type": "code",
   "execution_count": 24,
   "id": "ca6e59c5-38a5-4c27-aa38-27eee07e3779",
   "metadata": {},
   "outputs": [
    {
     "ename": "NameError",
     "evalue": "name 'outputs_difference' is not defined",
     "output_type": "error",
     "traceback": [
      "\u001b[1;31m---------------------------------------------------------------------------\u001b[0m",
      "\u001b[1;31mNameError\u001b[0m                                 Traceback (most recent call last)",
      "\u001b[1;32m<ipython-input-24-8511df68ca36>\u001b[0m in \u001b[0;36m<module>\u001b[1;34m\u001b[0m\n\u001b[0;32m      1\u001b[0m \u001b[0msign_diff\u001b[0m \u001b[1;33m=\u001b[0m \u001b[1;33m[\u001b[0m\u001b[1;33m]\u001b[0m\u001b[1;33m\u001b[0m\u001b[1;33m\u001b[0m\u001b[0m\n\u001b[1;32m----> 2\u001b[1;33m \u001b[1;32massert\u001b[0m \u001b[0mlen\u001b[0m\u001b[1;33m(\u001b[0m\u001b[0moutputs_difference\u001b[0m\u001b[1;33m)\u001b[0m \u001b[1;33m==\u001b[0m \u001b[0mlen\u001b[0m\u001b[1;33m(\u001b[0m\u001b[0mgt_difference\u001b[0m\u001b[1;33m)\u001b[0m\u001b[1;33m\u001b[0m\u001b[1;33m\u001b[0m\u001b[0m\n\u001b[0m\u001b[0;32m      3\u001b[0m \u001b[1;32mfor\u001b[0m \u001b[0mi\u001b[0m \u001b[1;32min\u001b[0m \u001b[0mrange\u001b[0m\u001b[1;33m(\u001b[0m\u001b[0mlen\u001b[0m\u001b[1;33m(\u001b[0m\u001b[0moutputs_difference\u001b[0m\u001b[1;33m)\u001b[0m\u001b[1;33m)\u001b[0m\u001b[1;33m:\u001b[0m\u001b[1;33m\u001b[0m\u001b[1;33m\u001b[0m\u001b[0m\n\u001b[0;32m      4\u001b[0m     \u001b[0msign_diff\u001b[0m\u001b[1;33m.\u001b[0m\u001b[0mappend\u001b[0m\u001b[1;33m(\u001b[0m\u001b[0moutputs_difference\u001b[0m\u001b[1;33m[\u001b[0m\u001b[0mi\u001b[0m\u001b[1;33m]\u001b[0m\u001b[1;33m*\u001b[0m\u001b[0mgt_difference\u001b[0m\u001b[1;33m[\u001b[0m\u001b[0mi\u001b[0m\u001b[1;33m]\u001b[0m\u001b[1;33m>\u001b[0m\u001b[1;36m0\u001b[0m\u001b[1;33m)\u001b[0m\u001b[1;33m\u001b[0m\u001b[1;33m\u001b[0m\u001b[0m\n",
      "\u001b[1;31mNameError\u001b[0m: name 'outputs_difference' is not defined"
     ]
    }
   ],
   "source": [
    "sign_diff = []\n",
    "assert len(outputs_difference) == len(gt_difference)\n",
    "for i in range(len(outputs_difference)):\n",
    "    sign_diff.append(outputs_difference[i]*gt_difference[i]>0)"
   ]
  },
  {
   "cell_type": "code",
   "execution_count": null,
   "id": "0f4bd86c-5c08-420a-9640-18836476ca50",
   "metadata": {},
   "outputs": [],
   "source": []
  },
  {
   "cell_type": "code",
   "execution_count": null,
   "id": "eb5eaa95-6ff3-44e8-affd-3314b1205e42",
   "metadata": {},
   "outputs": [],
   "source": []
  }
 ],
 "metadata": {
  "kernelspec": {
   "display_name": "Python 3",
   "language": "python",
   "name": "python3"
  },
  "language_info": {
   "codemirror_mode": {
    "name": "ipython",
    "version": 3
   },
   "file_extension": ".py",
   "mimetype": "text/x-python",
   "name": "python",
   "nbconvert_exporter": "python",
   "pygments_lexer": "ipython3",
   "version": "3.7.6"
  }
 },
 "nbformat": 4,
 "nbformat_minor": 5
}
