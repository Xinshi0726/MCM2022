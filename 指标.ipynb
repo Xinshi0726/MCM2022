{
 "cells": [
  {
   "cell_type": "code",
   "execution_count": 36,
   "id": "da8bb86a-ce77-47ab-9ab1-cd61595e9d8b",
   "metadata": {},
   "outputs": [],
   "source": [
    "import pandas as pd"
   ]
  },
  {
   "cell_type": "code",
   "execution_count": 51,
   "id": "cb2d25da-10cf-4122-b9c1-7876dc0cccbd",
   "metadata": {},
   "outputs": [],
   "source": [
    "ma = pd.read_csv(\"\")"
   ]
  },
  {
   "cell_type": "code",
   "execution_count": 52,
   "id": "889afe41-53f4-4501-9f1c-1791db63041e",
   "metadata": {},
   "outputs": [],
   "source": [
    "bit = pd.read_csv(\"bit_outputs.csv\")"
   ]
  },
  {
   "cell_type": "code",
   "execution_count": 53,
   "id": "b5ceb452-8b85-4b23-883b-33f91520ecb8",
   "metadata": {},
   "outputs": [],
   "source": [
    "day_1 = pd.concat([pd.Series([0]), bit.iloc[:,1]]).reset_index(drop = True)"
   ]
  },
  {
   "cell_type": "code",
   "execution_count": 54,
   "id": "7a59589a-ce03-479e-99c7-e4b006f950a3",
   "metadata": {},
   "outputs": [],
   "source": [
    "day_2 = pd.concat([pd.Series([0]), bit.iloc[:,2]]).reset_index(drop = True)"
   ]
  },
  {
   "cell_type": "code",
   "execution_count": 55,
   "id": "e4d33381-6bc9-4dea-9b94-4fd7c2478423",
   "metadata": {},
   "outputs": [],
   "source": [
    "day_3 = pd.concat([pd.Series([0]), bit.iloc[:,3]]).reset_index(drop = True)"
   ]
  },
  {
   "cell_type": "code",
   "execution_count": 56,
   "id": "8fc766d4-962b-4489-b576-7bc19f7bd0a7",
   "metadata": {},
   "outputs": [],
   "source": [
    "day_4 = pd.concat([pd.Series([0]), bit.iloc[:,4]]).reset_index(drop = True)"
   ]
  },
  {
   "cell_type": "code",
   "execution_count": 57,
   "id": "6b74b340-e35e-4d99-9649-45337a17231f",
   "metadata": {},
   "outputs": [],
   "source": [
    "day_5 = pd.concat([pd.Series([0]), bit.iloc[:,5]]).reset_index(drop = True)"
   ]
  },
  {
   "cell_type": "code",
   "execution_count": 63,
   "id": "e9a37168-6598-4626-b386-58d1e5dad3bc",
   "metadata": {},
   "outputs": [],
   "source": [
    "credit_of_future_tendency = []\n",
    "for idx,i in enumerate(ma.ma5):\n",
    "    credit_of_future_tendency.append(((day_1[idx]-i)*0.4/i)+ ((day_2[idx]-i)*0.2/i)+ ((day_3[idx]-i)*0.2/i)+ ((day_4[idx]-i)*0.1/i)+ ((day_5[idx]-i)*0.1/i))"
   ]
  },
  {
   "cell_type": "code",
   "execution_count": 64,
   "id": "d589e643-3984-4322-acbf-8a7d0aa1cd7a",
   "metadata": {},
   "outputs": [],
   "source": [
    "pd.DataFrame({\"credit_of_future_tendency\":credit_of_future_tendency}).to_csv(\"credit_tendency.csv\")"
   ]
  },
  {
   "cell_type": "code",
   "execution_count": 88,
   "id": "12772548-96fe-4028-8932-a4acd2f143a1",
   "metadata": {},
   "outputs": [],
   "source": [
    "gold = pd.read_csv(\"LBMA-GOLD.csv\").ma5"
   ]
  },
  {
   "cell_type": "code",
   "execution_count": 89,
   "id": "1bfcfed4-4564-4ab2-ad27-ce55cd912485",
   "metadata": {},
   "outputs": [],
   "source": [
    "gold_pred = pd.read_csv(\"outputs.csv\")"
   ]
  },
  {
   "cell_type": "code",
   "execution_count": 90,
   "id": "72d4eb60-783c-456f-a7c8-4dc6dafb465c",
   "metadata": {},
   "outputs": [],
   "source": [
    "pred = []\n",
    "for i in list(gold_pred.outputs):\n",
    "    val = eval(i)\n",
    "    if val == 0:\n",
    "        pred.append([0,0,0,0,0])\n",
    "    elif len(val) < 5:\n",
    "        pred.append(val+(5-len(val))*[0])\n",
    "    else:\n",
    "        pred.append(val)"
   ]
  },
  {
   "cell_type": "code",
   "execution_count": 91,
   "id": "e2493e16-6306-40bb-8d87-c6a1aa4e2afa",
   "metadata": {},
   "outputs": [],
   "source": [
    "gold_credit_of_future_tendency = []\n",
    "for idx,i in enumerate(gold):\n",
    "    gold_credit_of_future_tendency.append(((pred[idx][0]-i)*0.4/i)+ ((pred[idx][1]-i)*0.2/i)+ ((pred[idx][2]-i)*0.2/i)+ ((pred[idx][3]-i)*0.1/i)+ ((pred[idx][4]-i)*0.1/i))"
   ]
  },
  {
   "cell_type": "code",
   "execution_count": 92,
   "id": "41c62ce8-4c9e-46cc-8648-0b301f1543cb",
   "metadata": {},
   "outputs": [],
   "source": [
    "pd.DataFrame({\"gold_credit_of_future_tendency\":gold_credit_of_future_tendency}).to_csv(\"gold_credit_tendency.csv\")"
   ]
  },
  {
   "cell_type": "code",
   "execution_count": null,
   "id": "31b17c69-1999-4d76-a736-abecb2da121d",
   "metadata": {},
   "outputs": [],
   "source": []
  }
 ],
 "metadata": {
  "kernelspec": {
   "display_name": "Python 3",
   "language": "python",
   "name": "python3"
  },
  "language_info": {
   "codemirror_mode": {
    "name": "ipython",
    "version": 3
   },
   "file_extension": ".py",
   "mimetype": "text/x-python",
   "name": "python",
   "nbconvert_exporter": "python",
   "pygments_lexer": "ipython3",
   "version": "3.7.6"
  }
 },
 "nbformat": 4,
 "nbformat_minor": 5
}
