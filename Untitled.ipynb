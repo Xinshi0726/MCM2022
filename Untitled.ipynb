{
 "cells": [
  {
   "cell_type": "code",
   "execution_count": 1,
   "id": "fcc5a99f-0e6e-4248-a45f-ca894be3497e",
   "metadata": {},
   "outputs": [],
   "source": [
    "import torch\n",
    "import seaborn as sns\n",
    "import matplotlib.pyplot as plt\n",
    "from torch.utils.data import Dataset\n",
    "from torch.utils.data import DataLoader\n",
    "torch.manual_seed(99)\n",
    "import numpy as np\n",
    "import copy\n",
    "import pandas as pd"
   ]
  },
  {
   "cell_type": "code",
   "execution_count": 2,
   "id": "2214e2fc-8939-4262-aefe-85454963e4d0",
   "metadata": {},
   "outputs": [],
   "source": [
    "class CFG:\n",
    "    seq_length = 10\n",
    "    pred_length = 3\n",
    "    epoch = 10"
   ]
  },
  {
   "cell_type": "code",
   "execution_count": 3,
   "id": "802ee853-893a-4700-9feb-e56cf66ebe17",
   "metadata": {},
   "outputs": [],
   "source": [
    "bit = pd.read_csv(\"BCHAIN-MKPRU.csv\")"
   ]
  },
  {
   "cell_type": "code",
   "execution_count": 4,
   "id": "feedb300-f7f7-4fbc-a30b-84189acacc58",
   "metadata": {},
   "outputs": [],
   "source": [
    "val_change = []\n",
    "for i in range(len(list(bit.Value))-1):\n",
    "    val_change.append(abs(bit.Value[i+1]-bit.Value[i]))"
   ]
  },
  {
   "cell_type": "code",
   "execution_count": 5,
   "id": "9c6b06e6-4df1-4afa-a8c4-dcecf0dd1ec2",
   "metadata": {},
   "outputs": [],
   "source": [
    "sign = [np.array((0,1),dtype = np.float32) if i>0 else np.array((0,1),dtype = np.float32) for i in val_change]"
   ]
  },
  {
   "cell_type": "code",
   "execution_count": 6,
   "id": "8655901d-f007-48a8-86f2-5d6bd5a791c1",
   "metadata": {},
   "outputs": [],
   "source": [
    "date = list(bit.Date)\n",
    "date.remove('9/11/16')"
   ]
  },
  {
   "cell_type": "code",
   "execution_count": 7,
   "id": "dcff4d58-ba6b-45d0-8543-f485006ee762",
   "metadata": {},
   "outputs": [],
   "source": [
    "modified_bit = pd.DataFrame({\"Date\":date,\"sign\":sign,\"val_change\":val_change})"
   ]
  },
  {
   "cell_type": "code",
   "execution_count": 8,
   "id": "f5862a96-38ef-420d-b5bb-b12bf6a50729",
   "metadata": {},
   "outputs": [
    {
     "data": {
      "text/plain": [
       "0     [0.0, 1.0]\n",
       "1     [0.0, 1.0]\n",
       "2     [0.0, 1.0]\n",
       "3     [0.0, 1.0]\n",
       "4     [0.0, 1.0]\n",
       "         ...    \n",
       "95    [0.0, 1.0]\n",
       "96    [0.0, 1.0]\n",
       "97    [0.0, 1.0]\n",
       "98    [0.0, 1.0]\n",
       "99    [0.0, 1.0]\n",
       "Name: sign, Length: 100, dtype: object"
      ]
     },
     "execution_count": 8,
     "metadata": {},
     "output_type": "execute_result"
    }
   ],
   "source": [
    "modified_bit.sign[0:100]"
   ]
  },
  {
   "cell_type": "code",
   "execution_count": 9,
   "id": "15b1ae00-bab1-479c-adfb-17f18e49a068",
   "metadata": {},
   "outputs": [],
   "source": [
    "class bitCoinDatasetSign(Dataset):\n",
    "    def __init__(self, dataset):\n",
    "        self.target = (dataset.sign)\n",
    "        \n",
    "    def __len__(self):\n",
    "        return len(self.target)-CFG.seq_length\n",
    "\n",
    "    def __getitem__(self, i): \n",
    "        return list(self.target[i:i+CFG.seq_length-CFG.pred_length]),list(self.target[i+CFG.seq_length-CFG.pred_length:i+CFG.seq_length])"
   ]
  },
  {
   "cell_type": "code",
   "execution_count": 10,
   "id": "3feb6cab-131e-4b8e-83a8-69358f78d24a",
   "metadata": {},
   "outputs": [],
   "source": [
    "bd_sign = bitCoinDatasetSign(modified_bit)"
   ]
  },
  {
   "cell_type": "code",
   "execution_count": 11,
   "id": "276632e6-4237-4991-83a8-447c2ef5f8e2",
   "metadata": {},
   "outputs": [
    {
     "data": {
      "text/plain": [
       "([array([0., 1.], dtype=float32),\n",
       "  array([0., 1.], dtype=float32),\n",
       "  array([0., 1.], dtype=float32),\n",
       "  array([0., 1.], dtype=float32),\n",
       "  array([0., 1.], dtype=float32),\n",
       "  array([0., 1.], dtype=float32),\n",
       "  array([0., 1.], dtype=float32)],\n",
       " [array([0., 1.], dtype=float32),\n",
       "  array([0., 1.], dtype=float32),\n",
       "  array([0., 1.], dtype=float32)])"
      ]
     },
     "execution_count": 11,
     "metadata": {},
     "output_type": "execute_result"
    }
   ],
   "source": [
    "bd_sign[0]"
   ]
  },
  {
   "cell_type": "code",
   "execution_count": 12,
   "id": "ab9cde13-84ce-4d32-93ed-c1a895771386",
   "metadata": {},
   "outputs": [],
   "source": [
    "train_loader = DataLoader(bd_sign, batch_size=1, shuffle=False)"
   ]
  },
  {
   "cell_type": "code",
   "execution_count": 13,
   "id": "a89dffe1-b2a4-4068-ab07-9f78fd63904b",
   "metadata": {},
   "outputs": [],
   "source": [
    "from torch import nn\n",
    "\n",
    "class ShallowRegressionLSTM(nn.Module):\n",
    "    def __init__(self, num_sensors, hidden_units):\n",
    "        super().__init__()\n",
    "        self.num_sensors = num_sensors  # this is the number of features\n",
    "        self.hidden_units = hidden_units\n",
    "        self.num_layers = 1\n",
    "\n",
    "        self.lstm = nn.LSTM(\n",
    "            input_size=num_sensors,\n",
    "            hidden_size=hidden_units,\n",
    "            batch_first=True,\n",
    "            num_layers=self.num_layers\n",
    "        )\n",
    "\n",
    "        self.linear = nn.Linear(in_features=self.hidden_units, out_features=2)\n",
    "\n",
    "    def forward(self, x):\n",
    "        batch_size = x.shape[0]\n",
    "        h0 = torch.zeros(self.num_layers, batch_size, self.hidden_units).requires_grad_()\n",
    "        c0 = torch.zeros(self.num_layers, batch_size, self.hidden_units).requires_grad_()\n",
    "\n",
    "        _, (hn, _) = self.lstm(x, (h0, c0))\n",
    "        out = self.linear(hn[0]).flatten()  # First dim of Hn is num_layers, which is set to 1 above.\n",
    "\n",
    "        return out"
   ]
  },
  {
   "cell_type": "code",
   "execution_count": 14,
   "id": "737f250c-b3f8-4cef-b54f-d3d7a70dc333",
   "metadata": {},
   "outputs": [],
   "source": [
    "learning_rate = 2e-5\n",
    "num_hidden_units = 8\n",
    "\n",
    "sign_model = ShallowRegressionLSTM(num_sensors=1, hidden_units=num_hidden_units)\n",
    "sign_loss_function = nn.BCELoss()\n",
    "optimizer = torch.optim.Adam(sign_model.parameters(), lr=learning_rate)"
   ]
  },
  {
   "cell_type": "code",
   "execution_count": 15,
   "id": "cbd744d1-e58c-4bcc-adef-621d70d177e9",
   "metadata": {},
   "outputs": [],
   "source": [
    "def update_input(input_array,output):\n",
    "    tmp = list(input_array.detach().numpy())[0]\n",
    "    for i in range(len(tmp)-1):\n",
    "        tmp[i] = tmp[i+1]\n",
    "    tmp[-1] = output\n",
    "    return tmp"
   ]
  },
  {
   "cell_type": "code",
   "execution_count": 16,
   "id": "f971aec6-87d7-42d7-9fe4-6f4d6af1782d",
   "metadata": {},
   "outputs": [],
   "source": [
    "def train_model(data_loader, model, loss_function, optimizer):\n",
    "    num_batches = len(data_loader)\n",
    "    total_eval_loss = []\n",
    "    total_train_loss = []\n",
    "    prediction = []\n",
    "    trade = dict()\n",
    "    for i in range(len(bd_sign)+CFG.seq_length+CFG.pred_length):\n",
    "        trade[i] = []\n",
    "    for idx, (X, y) in enumerate(data_loader):\n",
    "        with torch.no_grad():\n",
    "            model.eval()\n",
    "            print(\"input:\",X.reshape(1,CFG.seq_length-CFG.pred_length,-1))\n",
    "            output = copy.deepcopy(X.reshape(1,CFG.seq_length-CFG.pred_length,-1))\n",
    "            for l in range(CFG.pred_length):\n",
    "                print(\"input:\",output.to(torch.float32))\n",
    "                pred = model(output.to(torch.float32))\n",
    "                print(\"pred\",pred)\n",
    "                trade[idx+l+CFG.seq_length-CFG.pred_length].append(torch.argmax(pred).detach().item())\n",
    "                update_input(output, torch.argmax(pred).detach().item())\n",
    "                print(\"prediction\",pred)\n",
    "                print(\"y\",y[0][l])\n",
    "                print(nn.Softmax()(pred))\n",
    "                print(y[0][l].to(torch.float32))\n",
    "                loss = loss_function(nn.Softmax()(pred), y[0][l].to(torch.float32))\n",
    "                total_eval_loss.append(loss)\n",
    "       \n",
    "        train_loss = 0\n",
    "        for i in range(CFG.epoch):\n",
    "            X = X.reshape(1,CFG.seq_length-CFG.pred_length,-1)\n",
    "            y = y.reshape(1,CFG.pred_length,-1)\n",
    "            model.train()\n",
    "            print(\"X\",X)\n",
    "            print(\"y\",y)\n",
    "            #拿前seq_length数据进行训练\n",
    "            output_prev = X[0][-1].to(torch.float32)\n",
    "            gt_prev = X[0][-1].to(torch.float32)\n",
    "            for i in range(CFG.pred_length):\n",
    "                \n",
    "                output = model(X.to(torch.float32))\n",
    "                print(\"out\",output)\n",
    "                loss = loss_function(output, (y[0][i].to(torch.float32)))\n",
    "                with torch.no_grad():\n",
    "                    train_loss += loss\n",
    "                optimizer.zero_grad()\n",
    "                loss.backward()\n",
    "                optimizer.step()\n",
    "                update_input(X, y[0][i].to(torch.float32).detach())\n",
    "                # print(\"tf\",X)\n",
    "        total_train_loss.append(train_loss/CFG.epoch)\n",
    "\n",
    "    return total_train_loss,total_eval_loss, trade\n"
   ]
  },
  {
   "cell_type": "code",
   "execution_count": 17,
   "id": "3522c0fc-9339-46b7-be74-7a72ddc0d123",
   "metadata": {},
   "outputs": [
    {
     "ename": "AttributeError",
     "evalue": "'list' object has no attribute 'reshape'",
     "output_type": "error",
     "traceback": [
      "\u001b[1;31m---------------------------------------------------------------------------\u001b[0m",
      "\u001b[1;31mAttributeError\u001b[0m                            Traceback (most recent call last)",
      "\u001b[1;32m<ipython-input-17-83f238067adb>\u001b[0m in \u001b[0;36m<module>\u001b[1;34m\u001b[0m\n\u001b[1;32m----> 1\u001b[1;33m \u001b[0msign_total_train_loss\u001b[0m\u001b[1;33m,\u001b[0m\u001b[0msign_total_eval_loss\u001b[0m\u001b[1;33m,\u001b[0m \u001b[0msign_trade\u001b[0m \u001b[1;33m=\u001b[0m \u001b[0mtrain_model\u001b[0m\u001b[1;33m(\u001b[0m\u001b[0mtrain_loader\u001b[0m\u001b[1;33m,\u001b[0m \u001b[0msign_model\u001b[0m\u001b[1;33m,\u001b[0m \u001b[0msign_loss_function\u001b[0m\u001b[1;33m,\u001b[0m \u001b[0moptimizer\u001b[0m\u001b[1;33m)\u001b[0m\u001b[1;33m\u001b[0m\u001b[1;33m\u001b[0m\u001b[0m\n\u001b[0m",
      "\u001b[1;32m<ipython-input-16-7a6d17c6fb82>\u001b[0m in \u001b[0;36mtrain_model\u001b[1;34m(data_loader, model, loss_function, optimizer)\u001b[0m\n\u001b[0;32m     10\u001b[0m         \u001b[1;32mwith\u001b[0m \u001b[0mtorch\u001b[0m\u001b[1;33m.\u001b[0m\u001b[0mno_grad\u001b[0m\u001b[1;33m(\u001b[0m\u001b[1;33m)\u001b[0m\u001b[1;33m:\u001b[0m\u001b[1;33m\u001b[0m\u001b[1;33m\u001b[0m\u001b[0m\n\u001b[0;32m     11\u001b[0m             \u001b[0mmodel\u001b[0m\u001b[1;33m.\u001b[0m\u001b[0meval\u001b[0m\u001b[1;33m(\u001b[0m\u001b[1;33m)\u001b[0m\u001b[1;33m\u001b[0m\u001b[1;33m\u001b[0m\u001b[0m\n\u001b[1;32m---> 12\u001b[1;33m             \u001b[0mprint\u001b[0m\u001b[1;33m(\u001b[0m\u001b[1;34m\"input:\"\u001b[0m\u001b[1;33m,\u001b[0m\u001b[0mX\u001b[0m\u001b[1;33m.\u001b[0m\u001b[0mreshape\u001b[0m\u001b[1;33m(\u001b[0m\u001b[1;36m1\u001b[0m\u001b[1;33m,\u001b[0m\u001b[0mCFG\u001b[0m\u001b[1;33m.\u001b[0m\u001b[0mseq_length\u001b[0m\u001b[1;33m-\u001b[0m\u001b[0mCFG\u001b[0m\u001b[1;33m.\u001b[0m\u001b[0mpred_length\u001b[0m\u001b[1;33m,\u001b[0m\u001b[1;33m-\u001b[0m\u001b[1;36m1\u001b[0m\u001b[1;33m)\u001b[0m\u001b[1;33m)\u001b[0m\u001b[1;33m\u001b[0m\u001b[1;33m\u001b[0m\u001b[0m\n\u001b[0m\u001b[0;32m     13\u001b[0m             \u001b[0moutput\u001b[0m \u001b[1;33m=\u001b[0m \u001b[0mcopy\u001b[0m\u001b[1;33m.\u001b[0m\u001b[0mdeepcopy\u001b[0m\u001b[1;33m(\u001b[0m\u001b[0mX\u001b[0m\u001b[1;33m.\u001b[0m\u001b[0mreshape\u001b[0m\u001b[1;33m(\u001b[0m\u001b[1;36m1\u001b[0m\u001b[1;33m,\u001b[0m\u001b[0mCFG\u001b[0m\u001b[1;33m.\u001b[0m\u001b[0mseq_length\u001b[0m\u001b[1;33m-\u001b[0m\u001b[0mCFG\u001b[0m\u001b[1;33m.\u001b[0m\u001b[0mpred_length\u001b[0m\u001b[1;33m,\u001b[0m\u001b[1;33m-\u001b[0m\u001b[1;36m1\u001b[0m\u001b[1;33m)\u001b[0m\u001b[1;33m)\u001b[0m\u001b[1;33m\u001b[0m\u001b[1;33m\u001b[0m\u001b[0m\n\u001b[0;32m     14\u001b[0m             \u001b[1;32mfor\u001b[0m \u001b[0ml\u001b[0m \u001b[1;32min\u001b[0m \u001b[0mrange\u001b[0m\u001b[1;33m(\u001b[0m\u001b[0mCFG\u001b[0m\u001b[1;33m.\u001b[0m\u001b[0mpred_length\u001b[0m\u001b[1;33m)\u001b[0m\u001b[1;33m:\u001b[0m\u001b[1;33m\u001b[0m\u001b[1;33m\u001b[0m\u001b[0m\n",
      "\u001b[1;31mAttributeError\u001b[0m: 'list' object has no attribute 'reshape'"
     ]
    }
   ],
   "source": [
    "sign_total_train_loss,sign_total_eval_loss, sign_trade = train_model(train_loader, sign_model, sign_loss_function, optimizer)"
   ]
  },
  {
   "cell_type": "code",
   "execution_count": null,
   "id": "3967c81d-785d-4fbc-836e-313e5648f290",
   "metadata": {},
   "outputs": [],
   "source": []
  },
  {
   "cell_type": "code",
   "execution_count": null,
   "id": "e8083c72-18f1-4804-b2dd-fbf937fbebdd",
   "metadata": {},
   "outputs": [],
   "source": []
  }
 ],
 "metadata": {
  "kernelspec": {
   "display_name": "Python 3",
   "language": "python",
   "name": "python3"
  },
  "language_info": {
   "codemirror_mode": {
    "name": "ipython",
    "version": 3
   },
   "file_extension": ".py",
   "mimetype": "text/x-python",
   "name": "python",
   "nbconvert_exporter": "python",
   "pygments_lexer": "ipython3",
   "version": "3.7.6"
  }
 },
 "nbformat": 4,
 "nbformat_minor": 5
}
